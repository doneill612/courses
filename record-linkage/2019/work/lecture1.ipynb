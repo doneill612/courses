{
 "cells": [
  {
   "cell_type": "markdown",
   "metadata": {},
   "source": [
    "# Record Linkage"
   ]
  },
  {
   "cell_type": "markdown",
   "metadata": {},
   "source": [
    "AKA Entity Resokution, Canonicalization, Similarity join...\n",
    "\n",
    "Harmomize data arising from various entities."
   ]
  },
  {
   "cell_type": "markdown",
   "metadata": {},
   "source": [
    "## Fuzzy Logic\n",
    "\n",
    "Certain objects or not strictly defined.\n",
    "\n",
    "Fuzzy ensembles - ALgebra, Lotfi Zadeh\n",
    "\n",
    "\"The car is going 94 km/hr\"\n",
    "\n",
    "\"The car is going fast\"\n",
    "\n",
    "Medicine, robotics, AI\n",
    "\n",
    "### Fuzzy Matching\n",
    "\n",
    "1. Normalization  \n",
    "  - haromize case\n",
    "  - remove accents\n",
    "  - harmonize unicode\n",
    "  - comproess spaces\n",
    "2. Mathemtical distances\n",
    "3. Lemmatisation\n",
    "4. Phonetic algorithms\n",
    "\n"
   ]
  },
  {
   "cell_type": "code",
   "execution_count": 23,
   "metadata": {},
   "outputs": [],
   "source": [
    "import pandas as pd\n",
    "import numpy as np\n",
    "import os"
   ]
  },
  {
   "cell_type": "code",
   "execution_count": 24,
   "metadata": {},
   "outputs": [
    {
     "name": "stdout",
     "output_type": "stream",
     "text": [
      "['dirty-donato.csv', 'dirty-figshare.csv', 'dirty-interventions.csv', 'dirty-isidore.csv', 'dirty-musicians.csv', 'dirty-universities.csv']\n"
     ]
    }
   ],
   "source": [
    "print(os.listdir('../data'))"
   ]
  },
  {
   "cell_type": "code",
   "execution_count": 41,
   "metadata": {},
   "outputs": [],
   "source": [
    "df = pd.read_csv('../data/dirty-musicians.csv')"
   ]
  },
  {
   "cell_type": "code",
   "execution_count": 26,
   "metadata": {},
   "outputs": [
    {
     "data": {
      "text/html": [
       "<div>\n",
       "<style scoped>\n",
       "    .dataframe tbody tr th:only-of-type {\n",
       "        vertical-align: middle;\n",
       "    }\n",
       "\n",
       "    .dataframe tbody tr th {\n",
       "        vertical-align: top;\n",
       "    }\n",
       "\n",
       "    .dataframe thead th {\n",
       "        text-align: right;\n",
       "    }\n",
       "</style>\n",
       "<table border=\"1\" class=\"dataframe\">\n",
       "  <thead>\n",
       "    <tr style=\"text-align: right;\">\n",
       "      <th></th>\n",
       "      <th>count</th>\n",
       "      <th>unique</th>\n",
       "      <th>top</th>\n",
       "      <th>freq</th>\n",
       "    </tr>\n",
       "  </thead>\n",
       "  <tbody>\n",
       "    <tr>\n",
       "      <th>artist</th>\n",
       "      <td>65535</td>\n",
       "      <td>21028</td>\n",
       "      <td>Johnnie Taylor</td>\n",
       "      <td>180</td>\n",
       "    </tr>\n",
       "    <tr>\n",
       "      <th>genre</th>\n",
       "      <td>65535</td>\n",
       "      <td>3026</td>\n",
       "      <td>Pop music</td>\n",
       "      <td>4891</td>\n",
       "    </tr>\n",
       "    <tr>\n",
       "      <th>birthdate1</th>\n",
       "      <td>60562</td>\n",
       "      <td>13634</td>\n",
       "      <td>1928-03-01</td>\n",
       "      <td>122</td>\n",
       "    </tr>\n",
       "    <tr>\n",
       "      <th>birthdate2</th>\n",
       "      <td>57926</td>\n",
       "      <td>13208</td>\n",
       "      <td>United_States</td>\n",
       "      <td>283</td>\n",
       "    </tr>\n",
       "    <tr>\n",
       "      <th>birthdate3</th>\n",
       "      <td>63867</td>\n",
       "      <td>10420</td>\n",
       "      <td>21</td>\n",
       "      <td>577</td>\n",
       "    </tr>\n",
       "    <tr>\n",
       "      <th>deathdate1</th>\n",
       "      <td>11463</td>\n",
       "      <td>2854</td>\n",
       "      <td>2000-05-31</td>\n",
       "      <td>180</td>\n",
       "    </tr>\n",
       "    <tr>\n",
       "      <th>deathdate2</th>\n",
       "      <td>12088</td>\n",
       "      <td>2405</td>\n",
       "      <td>2010</td>\n",
       "      <td>137</td>\n",
       "    </tr>\n",
       "    <tr>\n",
       "      <th>deathdate3</th>\n",
       "      <td>10851</td>\n",
       "      <td>2732</td>\n",
       "      <td>Dallas, Texas, United States</td>\n",
       "      <td>108</td>\n",
       "    </tr>\n",
       "  </tbody>\n",
       "</table>\n",
       "</div>"
      ],
      "text/plain": [
       "            count unique                           top  freq\n",
       "artist      65535  21028                Johnnie Taylor   180\n",
       "genre       65535   3026                     Pop music  4891\n",
       "birthdate1  60562  13634                    1928-03-01   122\n",
       "birthdate2  57926  13208                 United_States   283\n",
       "birthdate3  63867  10420                            21   577\n",
       "deathdate1  11463   2854                    2000-05-31   180\n",
       "deathdate2  12088   2405                          2010   137\n",
       "deathdate3  10851   2732  Dallas, Texas, United States   108"
      ]
     },
     "execution_count": 26,
     "metadata": {},
     "output_type": "execute_result"
    }
   ],
   "source": [
    "df.describe().T"
   ]
  },
  {
   "cell_type": "code",
   "execution_count": 27,
   "metadata": {},
   "outputs": [],
   "source": [
    "import unicodedata\n",
    "\n",
    "def strip_accents(text):\n",
    "\n",
    "    try:\n",
    "        text = unicode(text, 'utf-8')\n",
    "    except NameError: # unicode is a default on python 3 \n",
    "        pass\n",
    "\n",
    "    text = unicodedata.normalize('NFD', text).encode('ascii', 'ignore').decode(\"utf-8\")\n",
    "\n",
    "    return str(text)"
   ]
  },
  {
   "cell_type": "code",
   "execution_count": 28,
   "metadata": {},
   "outputs": [],
   "source": [
    "def cleanstr(val):\n",
    "    val = val.lower()\n",
    "    if '(' in val:\n",
    "        val = val[:val.index('(')]\n",
    "    return strip_accents(val.strip()).replace(' ', '')\n",
    "\n",
    "df.artist = df.artist.apply(cleanstr)"
   ]
  },
  {
   "cell_type": "code",
   "execution_count": 29,
   "metadata": {},
   "outputs": [
    {
     "name": "stdout",
     "output_type": "stream",
     "text": [
      "carolina nc north of university\n",
      "carolina nc north of university\n",
      "carolina nc north of university\n"
     ]
    }
   ],
   "source": [
    "import string\n",
    "\n",
    "def fingerprint(chars):\n",
    "    chars = chars.lower().strip()\n",
    "    chars = chars.translate(str.maketrans('', '', string.punctuation))\n",
    "    tokens = sorted(set(chars.split(' ')))\n",
    "    return ' '.join(tokens)\n",
    "    \n",
    "print(fingerprint('University of North Carolina, NC'))\n",
    "print(fingerprint('University of North Carolina NC'))\n",
    "print(fingerprint('University of north North Carolina, NC'))"
   ]
  },
  {
   "cell_type": "code",
   "execution_count": 36,
   "metadata": {},
   "outputs": [],
   "source": [
    "from collections import defaultdict\n",
    "\n",
    "def cluster(ser):\n",
    "    groups = defaultdict(set)\n",
    "    \n",
    "    for val in ser.values:\n",
    "        groups[cleanstr(val)].add(val)\n",
    "        \n",
    "    for c in groups.items():\n",
    "        yield c"
   ]
  },
  {
   "cell_type": "code",
   "execution_count": 33,
   "metadata": {},
   "outputs": [
    {
     "name": "stdout",
     "output_type": "stream",
     "text": [
      "mzbratt {'mz.bratt', 'mzbratt'}\n",
      "leeminwoo {'leemin-woo', 'leeminwoo'}\n",
      "jr {'jr.', 'j.r.'}\n",
      "kimhyungjun {'kimhyungjun', 'kimhyung-jun'}\n",
      "sungyuri {'sungyu-ri', 'sungyuri'}\n",
      "heoyoungsaeng {'heoyoungsaeng', 'heoyoung-saeng'}\n",
      "jax {'jax', 'j-ax'}\n",
      "melody {'melody', 'melody.'}\n",
      "kimkyujong {'kimkyu-jong', 'kimkyujong'}\n",
      "shinhyesung {'shinhyesung', 'shinhye-sung'}\n",
      "jammasterjay {'jammasterjay', 'jam-masterjay'}\n",
      "kangminhyuk {'kangmin-hyuk', 'kangminhyuk'}\n",
      "kvkrishnaprasad {'k.v.krishnaprasad', 'kvkrishnaprasad'}\n"
     ]
    }
   ],
   "source": [
    "for k, v in cluster(df.artist):\n",
    "    if len(v) > 1:\n",
    "        print(k, v)"
   ]
  },
  {
   "cell_type": "code",
   "execution_count": 35,
   "metadata": {},
   "outputs": [],
   "source": [
    "from Levenshtein import distance"
   ]
  },
  {
   "cell_type": "code",
   "execution_count": 40,
   "metadata": {},
   "outputs": [],
   "source": [
    "for k, v in cluster(df.artist):\n",
    "    if len(v) > 1:\n",
    "        print(v)\n",
    "        combs = itertools.combinations(v, 2)\n",
    "        ds = []\n",
    "        for (s1, s2) in combs:\n",
    "            d.append(distance(s1, s2))\n",
    "        print('k = {}, distances = {}'.format(k, ds))"
   ]
  },
  {
   "cell_type": "code",
   "execution_count": null,
   "metadata": {},
   "outputs": [],
   "source": []
  },
  {
   "cell_type": "markdown",
   "metadata": {},
   "source": [
    "# Information Retrieval\n",
    "\n",
    "Document research - search engine.\n",
    "\n",
    "`ElasticSearch`, `Solr`"
   ]
  }
 ],
 "metadata": {
  "kernelspec": {
   "display_name": "Python 3",
   "language": "python",
   "name": "python3"
  },
  "language_info": {
   "codemirror_mode": {
    "name": "ipython",
    "version": 3
   },
   "file_extension": ".py",
   "mimetype": "text/x-python",
   "name": "python",
   "nbconvert_exporter": "python",
   "pygments_lexer": "ipython3",
   "version": "3.7.1"
  }
 },
 "nbformat": 4,
 "nbformat_minor": 2
}
